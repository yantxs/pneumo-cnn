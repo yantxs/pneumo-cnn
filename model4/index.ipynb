{
  "nbformat": 4,
  "nbformat_minor": 2,
  "metadata": {
    "kernelspec": {
      "display_name": "Python 3",
      "language": "python",
      "name": "python3"
    },
    "language_info": {
      "codemirror_mode": {
        "name": "ipython",
        "version": 3
      },
      "file_extension": ".py",
      "mimetype": "text/x-python",
      "name": "python",
      "nbconvert_exporter": "python",
      "pygments_lexer": "ipython3",
      "version": "3.6.6"
    },
    "colab": {
      "name": "#4.ipynb",
      "provenance": [],
      "collapsed_sections": [],
      "toc_visible": true
    }
  },
  "cells": [
    {
      "cell_type": "markdown",
      "source": [
        "# PneumoCNN #4\n",
        "###Usando redes neurais convolucionais para auxiliar diagnóstico da Pneumonia\n"
      ],
      "metadata": {
        "id": "aiytWsBHqMOf"
      }
    },
    {
      "cell_type": "markdown",
      "source": [
        "### Importando as bibliotecas necessárias\n"
      ],
      "metadata": {
        "id": "vgrYhHyYqMPP"
      }
    },
    {
      "cell_type": "code",
      "execution_count": null,
      "source": [
        "import numpy as np \n",
        "import pandas as pd \n",
        "import tensorflow as tf\n",
        "import matplotlib.pyplot as plt\n",
        "import seaborn as sns\n",
        "\n",
        "from tensorflow.keras.models import Sequential\n",
        "from tensorflow.keras.layers import Dense, Conv2D, AvgPool2D, MaxPool2D , Flatten , Dropout, BatchNormalization\n",
        "from tensorflow.keras.preprocessing.image import ImageDataGenerator\n",
        "from tensorflow.keras.callbacks import EarlyStopping, ModelCheckpoint\n",
        "from sklearn.model_selection import train_test_split\n",
        "from sklearn.metrics import classification_report,confusion_matrix\n",
        "import cv2\n",
        "import os"
      ],
      "outputs": [],
      "metadata": {
        "_cell_guid": "79c7e3d0-c299-4dcb-8224-4455121ee9b0",
        "_uuid": "d629ff2d2480ee46fbb7e2d37f6b5fab8052498a",
        "id": "DP5dgxivqMPT"
      }
    },
    {
      "cell_type": "code",
      "execution_count": null,
      "source": [
        "from google.colab import drive\n",
        "drive.mount('/content/drive')"
      ],
      "outputs": [
        {
          "output_type": "stream",
          "name": "stdout",
          "text": [
            "Mounted at /content/drive\n"
          ]
        }
      ],
      "metadata": {
        "colab": {
          "base_uri": "https://localhost:8080/"
        },
        "id": "P8-r-6fzBPZH",
        "outputId": "265e8439-2463-4a50-d6e5-17df8766c624"
      }
    },
    {
      "cell_type": "markdown",
      "source": [
        "#  Dataset\n",
        "A base de dados está organizada em 3 pastas(train, test, val) e contém subpastas para cada categoria de imagem (Pneumonia/Normal). \n",
        "5.863 X-Ray imagens (JPEG) e 2 categorias (Pneumonia/Normal).\n",
        "Alguns desses arquivos indicam o tipo de pneumonia (viral, bacteria). Vamos usar essa informação para rearranjar a base de dados."
      ],
      "metadata": {
        "id": "pd3iUwNmqMPb"
      }
    },
    {
      "cell_type": "code",
      "execution_count": null,
      "source": [
        "labels = ['PNEUMONIA', 'NORMAL']\n",
        "img_size = 150\n",
        "def get_training_data(data_dir):\n",
        "    data = [] \n",
        "    for label in labels: \n",
        "        path = os.path.join(data_dir, label)\n",
        "        class_num = labels.index(label)\n",
        "        diag= \"\"\n",
        "        for img in os.listdir(path):\n",
        "            try:\n",
        "                img_arr = cv2.imread(os.path.join(path, img), cv2.IMREAD_GRAYSCALE)\n",
        "                resized_arr = cv2.resize(img_arr, (img_size, img_size))\n",
        "                if \"bacteria\" in img:\n",
        "                    diag = [1,0,0] \n",
        "                elif \"virus\" in img:\n",
        "                    diag = [0,1,0] \n",
        "                else:\n",
        "                    diag = [0,0,1]              \n",
        "                data.append([resized_arr, class_num, diag])\n",
        "            except Exception as e:\n",
        "                print(img, e)\n",
        "            print(img)\n",
        "    return np.array(data)"
      ],
      "outputs": [],
      "metadata": {
        "id": "fTtsIhGsqMPd"
      }
    },
    {
      "cell_type": "markdown",
      "source": [
        "# Carregando o Dataset"
      ],
      "metadata": {
        "id": "12WLOsvlqMPf"
      }
    },
    {
      "cell_type": "code",
      "execution_count": null,
      "source": [
        "train = get_training_data('drive/MyDrive/chest_xray/chest_xray/train')\n",
        "val = get_training_data('drive/MyDrive/chest_xray/chest_xray/val')\n",
        "test = get_training_data('drive/MyDrive/chest_xray/chest_xray/test')"
      ],
      "outputs": [
        {
          "output_type": "stream",
          "name": "stdout",
          "text": [
            "IM-0061-0001.jpeg\n",
            "IM-0093-0001.jpeg\n",
            "NORMAL2-IM-0033-0001.jpeg\n",
            "NORMAL2-IM-0041-0001.jpeg\n",
            "NORMAL2-IM-0098-0001.jpeg\n",
            "NORMAL2-IM-0150-0001.jpeg\n",
            "IM-0099-0001.jpeg\n",
            "IM-0097-0001.jpeg\n",
            "IM-0101-0001.jpeg\n",
            "IM-0103-0001.jpeg\n",
            "IM-0111-0001.jpeg\n",
            "IM-0070-0001.jpeg\n",
            "NORMAL2-IM-0206-0001.jpeg\n",
            "NORMAL2-IM-0045-0001.jpeg\n",
            "NORMAL2-IM-0066-0001.jpeg\n",
            "NORMAL2-IM-0060-0001.jpeg\n",
            "IM-0043-0001.jpeg\n",
            "NORMAL2-IM-0112-0001.jpeg\n",
            "NORMAL2-IM-0111-0001.jpeg\n",
            "IM-0069-0001.jpeg\n",
            "NORMAL2-IM-0201-0001.jpeg\n",
            "NORMAL2-IM-0092-0001.jpeg\n",
            "NORMAL2-IM-0340-0001.jpeg\n",
            "NORMAL2-IM-0277-0001.jpeg\n",
            "NORMAL2-IM-0329-0001.jpeg\n",
            "NORMAL2-IM-0373-0001.jpeg\n",
            "NORMAL2-IM-0301-0001.jpeg\n",
            "NORMAL2-IM-0252-0001.jpeg\n",
            "NORMAL2-IM-0274-0001.jpeg\n",
            "NORMAL2-IM-0361-0001.jpeg\n",
            "NORMAL2-IM-0337-0001.jpeg\n",
            "NORMAL2-IM-0366-0001.jpeg\n",
            "NORMAL2-IM-0378-0001.jpeg\n",
            "NORMAL2-IM-0251-0001.jpeg\n",
            "NORMAL2-IM-0285-0001.jpeg\n",
            "NORMAL2-IM-0246-0001-0001.jpeg\n",
            "NORMAL2-IM-0381-0001.jpeg\n",
            "NORMAL2-IM-0360-0001.jpeg\n",
            "NORMAL2-IM-0364-0001.jpeg\n",
            "NORMAL2-IM-0380-0001.jpeg\n",
            "NORMAL2-IM-0369-0001.jpeg\n",
            "NORMAL2-IM-0328-0001.jpeg\n",
            "NORMAL2-IM-0349-0001.jpeg\n",
            "NORMAL2-IM-0241-0001.jpeg\n",
            "NORMAL2-IM-0309-0001.jpeg\n",
            "NORMAL2-IM-0276-0001.jpeg\n",
            "NORMAL2-IM-0317-0001.jpeg\n",
            "NORMAL2-IM-0319-0001.jpeg\n",
            "NORMAL2-IM-0321-0001.jpeg\n",
            "NORMAL2-IM-0283-0001.jpeg\n",
            "NORMAL2-IM-0287-0001.jpeg\n",
            "NORMAL2-IM-0275-0001.jpeg\n",
            "NORMAL2-IM-0238-0001.jpeg\n",
            "NORMAL2-IM-0335-0001.jpeg\n",
            "NORMAL2-IM-0229-0001.jpeg\n",
            "NORMAL2-IM-0300-0001.jpeg\n",
            "NORMAL2-IM-0343-0001.jpeg\n",
            "NORMAL2-IM-0304-0001.jpeg\n",
            "NORMAL2-IM-0305-0001.jpeg\n",
            "NORMAL2-IM-0256-0001.jpeg\n",
            "NORMAL2-IM-0368-0001.jpeg\n",
            "NORMAL2-IM-0326-0001.jpeg\n",
            "NORMAL2-IM-0339-0001.jpeg\n",
            "NORMAL2-IM-0374-0001.jpeg\n",
            "NORMAL2-IM-0232-0001.jpeg\n",
            "NORMAL2-IM-0325-0001.jpeg\n",
            "NORMAL2-IM-0374-0001-0002.jpeg\n",
            "NORMAL2-IM-0288-0001.jpeg\n",
            "NORMAL2-IM-0359-0001.jpeg\n",
            "NORMAL2-IM-0272-0001.jpeg\n",
            "NORMAL2-IM-0347-0001.jpeg\n",
            "NORMAL2-IM-0221-0001.jpeg\n",
            "NORMAL2-IM-0316-0001.jpeg\n",
            "NORMAL2-IM-0249-0001.jpeg\n",
            "NORMAL2-IM-0330-0001.jpeg\n",
            "NORMAL2-IM-0279-0001.jpeg\n",
            "NORMAL2-IM-0289-0001.jpeg\n",
            "NORMAL2-IM-0345-0001.jpeg\n",
            "NORMAL2-IM-0331-0001.jpeg\n",
            "NORMAL2-IM-0302-0001.jpeg\n",
            "NORMAL2-IM-0323-0001.jpeg\n",
            "NORMAL2-IM-0219-0001.jpeg\n",
            "NORMAL2-IM-0222-0001.jpeg\n",
            "NORMAL2-IM-0348-0001.jpeg\n",
            "NORMAL2-IM-0310-0001.jpeg\n",
            "NORMAL2-IM-0370-0001.jpeg\n",
            "NORMAL2-IM-0294-0001.jpeg\n",
            "NORMAL2-IM-0336-0001.jpeg\n",
            "NORMAL2-IM-0281-0001.jpeg\n",
            "NORMAL2-IM-0357-0001.jpeg\n",
            "NORMAL2-IM-0362-0001.jpeg\n",
            "NORMAL2-IM-0313-0001.jpeg\n",
            "NORMAL2-IM-0259-0001.jpeg\n",
            "NORMAL2-IM-0311-0001.jpeg\n",
            "NORMAL2-IM-0282-0001.jpeg\n",
            "NORMAL2-IM-0338-0001.jpeg\n",
            "NORMAL2-IM-0271-0001.jpeg\n",
            "NORMAL2-IM-0374-0001-0001.jpeg\n",
            "NORMAL2-IM-0350-0001.jpeg\n",
            "NORMAL2-IM-0307-0001.jpeg\n",
            "NORMAL2-IM-0341-0001.jpeg\n",
            "NORMAL2-IM-0346-0001.jpeg\n",
            "NORMAL2-IM-0286-0001.jpeg\n",
            "NORMAL2-IM-0290-0001.jpeg\n",
            "NORMAL2-IM-0297-0001.jpeg\n",
            "NORMAL2-IM-0280-0001.jpeg\n",
            "NORMAL2-IM-0217-0001.jpeg\n",
            "NORMAL2-IM-0246-0001-0002.jpeg\n",
            "NORMAL2-IM-0273-0001.jpeg\n",
            "NORMAL2-IM-0322-0001.jpeg\n",
            "NORMAL2-IM-0332-0001.jpeg\n",
            "NORMAL2-IM-0372-0001.jpeg\n",
            "NORMAL2-IM-0333-0001.jpeg\n",
            "NORMAL2-IM-0353-0001.jpeg\n",
            "NORMAL2-IM-0213-0001.jpeg\n",
            "NORMAL2-IM-0327-0001.jpeg\n",
            "NORMAL2-IM-0352-0001.jpeg\n",
            "NORMAL2-IM-0237-0001.jpeg\n",
            "NORMAL2-IM-0292-0001.jpeg\n",
            "NORMAL2-IM-0315-0001.jpeg\n",
            "NORMAL2-IM-0312-0001.jpeg\n",
            "NORMAL2-IM-0303-0001.jpeg\n",
            "NORMAL2-IM-0246-0001.jpeg\n",
            "NORMAL2-IM-0278-0001.jpeg\n",
            "NORMAL2-IM-0354-0001.jpeg\n",
            "NORMAL2-IM-0267-0001.jpeg\n",
            "NORMAL2-IM-0351-0001.jpeg\n",
            "NORMAL2-IM-0376-0001.jpeg\n",
            "NORMAL2-IM-0233-0001.jpeg\n"
          ]
        }
      ],
      "metadata": {
        "_kg_hide-output": true,
        "id": "s6fkvmuCqMPg",
        "colab": {
          "base_uri": "https://localhost:8080/"
        },
        "outputId": "25617637-ee64-4e9b-f8cb-277d997d3921"
      }
    },
    {
      "cell_type": "markdown",
      "source": [
        "# Rearranjo do dataset\n",
        "Precisamos redistruir o dataset para não ficar desbalanceado e conter amostras dos 3 casos no treino, validação e teste do modelo."
      ],
      "metadata": {
        "id": "ZPrMfD1cqMPz"
      }
    },
    {
      "cell_type": "code",
      "execution_count": null,
      "source": [
        "x_data = []\n",
        "y_data = []\n",
        "\n",
        "for feature, label, diag in train:\n",
        "    x_data.append(feature)\n",
        "    y_data.append(diag)\n",
        "\n",
        "for feature, label, diag in test:\n",
        "    x_data.append(feature)\n",
        "    y_data.append(diag)\n",
        "    \n",
        "for feature, label, diag in val:\n",
        "    x_data.append(feature)\n",
        "    y_data.append(diag)\n",
        "\n",
        "y_class_num = [np.where(np.asarray(r)==1)[0][0] for r in y_data]\n"
      ],
      "outputs": [],
      "metadata": {
        "id": "FrIja85aqMP1"
      }
    },
    {
      "cell_type": "code",
      "execution_count": null,
      "source": [
        "\n",
        "\n",
        "samples = pd.DataFrame(y_class_num, columns = ['class_num'])\n",
        "samples['diag'] = y_data\n",
        "samples['img'] = x_data\n",
        "\n",
        "smallest_diag_count = samples['class_num'].value_counts().min()\n",
        "\n",
        "class0 = samples[samples['class_num'] == 0].sample(smallest_diag_count)\n",
        "class1 = samples[samples['class_num'] == 1].sample(smallest_diag_count)\n",
        "class2 = samples[samples['class_num'] == 2].sample(smallest_diag_count)\n",
        "\n",
        "samples_under = pd.concat([class0, class1, class2], axis=0)\n",
        "\n",
        "x = samples_under['img'].tolist()\n",
        "y = samples_under['diag'].tolist()"
      ],
      "outputs": [],
      "metadata": {
        "id": "oMr6vQ5UqMP3"
      }
    },
    {
      "cell_type": "code",
      "execution_count": null,
      "source": [
        "x_train, x_test, y_train, y_test = train_test_split(x, y, test_size=0.3, shuffle=True)"
      ],
      "outputs": [],
      "metadata": {
        "id": "BFWQ3cG8qMP6"
      }
    },
    {
      "cell_type": "code",
      "execution_count": null,
      "source": [
        "x_val, x_test, y_val, y_test = train_test_split(x_test, y_test, test_size=0.5, shuffle=False)"
      ],
      "outputs": [],
      "metadata": {
        "id": "TYj1HR7qqMP7"
      }
    },
    {
      "cell_type": "markdown",
      "source": [
        "Normalização\n"
      ],
      "metadata": {
        "id": "vrJkMgxsqMQJ"
      }
    },
    {
      "cell_type": "code",
      "execution_count": null,
      "source": [
        "x_train = np.array(x_train) / 255\n",
        "x_val = np.array(x_val) / 255\n",
        "x_test = np.array(x_test) / 255"
      ],
      "outputs": [],
      "metadata": {
        "id": "XqSz9UtZqMQL"
      }
    },
    {
      "cell_type": "code",
      "execution_count": null,
      "source": [
        "x_train = x_train.reshape(-1, img_size, img_size, 1)\n",
        "y_train = np.array(y_train)\n",
        "\n",
        "x_val = x_val.reshape(-1, img_size, img_size, 1)\n",
        "y_val = np.array(y_val)\n",
        "\n",
        "x_test = x_test.reshape(-1, img_size, img_size, 1)\n",
        "y_test = np.array(y_test)"
      ],
      "outputs": [],
      "metadata": {
        "id": "vT_6P6DEqMQU"
      }
    },
    {
      "cell_type": "markdown",
      "source": [
        "# Data Augmentation\n",
        "Para evitar problema de sobre ajuste, precisamos de aumentar artificialmente o dataset. Para isso iremos fazer o processo de data augmentation, que consiste em alterar as amostras de treino com transformações suaves(zoom, orientação, crops) para reproduzir as variações\n"
      ],
      "metadata": {
        "id": "K-QPqVyBqMQV"
      }
    },
    {
      "cell_type": "code",
      "execution_count": null,
      "source": [
        "train_datagen = ImageDataGenerator(\n",
        "        featurewise_center=False,  \n",
        "        samplewise_center=False,  \n",
        "        featurewise_std_normalization=False,  \n",
        "        samplewise_std_normalization=False,\n",
        "        zca_whitening=False,  \n",
        "        rotation_range = 10,  \n",
        "        zoom_range = 0.1, \n",
        "        width_shift_range=0.1, \n",
        "        height_shift_range=0.1,  \n",
        "        horizontal_flip = False,  \n",
        "        vertical_flip=False)  \n",
        "train_datagen.fit(x_train)\n",
        "\n",
        "valid_datagen = ImageDataGenerator()\n",
        "\n",
        "test_datagen = ImageDataGenerator()\n",
        "\n",
        "\n",
        "train_generator = train_datagen.flow(\n",
        "    x_train,\n",
        "    y_train,\n",
        "    batch_size = 32)\n",
        "\n",
        "validation_generator = valid_datagen.flow(\n",
        "    x_val,\n",
        "    y_val)\n",
        "\n",
        "test_generator = test_datagen.flow(\n",
        "    x_test,\n",
        "    y_test)\n"
      ],
      "outputs": [],
      "metadata": {
        "id": "8Ldz8pJQqMQW"
      }
    },
    {
      "cell_type": "markdown",
      "source": [
        "# Treinando o Modelo\n"
      ],
      "metadata": {
        "id": "GP61q0ExqMQY"
      }
    },
    {
      "cell_type": "code",
      "execution_count": null,
      "source": [
        "opt = tf.keras.optimizers.Adam(learning_rate=1e-3)\n",
        "\n",
        "model = Sequential()\n",
        "\n",
        "#1Camada Convolucional\n",
        "model.add(Conv2D(32 , (3,3) , strides = 1 , padding = 'same' , activation = 'relu' , input_shape = (150,150,1)))\n",
        "model.add(AvgPool2D((2,2) , strides = 2 , padding = 'same'))\n",
        "\n",
        "\n",
        "#2Camada Convolucional\n",
        "model.add(Conv2D(64 , (3,3) , strides = 1 , padding = 'same' , activation = 'relu'))\n",
        "model.add(MaxPool2D((2,2) , strides = 2 , padding = 'same'))\n",
        "\n",
        "\n",
        "#3Camada Convolucional\n",
        "model.add(Conv2D(64 , (3,3) , strides = 1 , padding = 'same' , activation = 'relu'))\n",
        "model.add(MaxPool2D((2,2) , strides = 2 , padding = 'same'))\n",
        "\n",
        "\n",
        "#4Camada Convolucional\n",
        "model.add(Conv2D(128 , (3,3) , strides = 1 , padding = 'same' , activation = 'relu'))\n",
        "model.add(MaxPool2D((2,2) , strides = 2 , padding = 'same'))\n",
        "\n",
        "\n",
        "#5Camada Convolucional\n",
        "model.add(Conv2D(256 , (3,3) , strides = 1 , padding = 'same' , activation = 'relu'))\n",
        "model.add(MaxPool2D((2,2) , strides = 2 , padding = 'same'))\n",
        "\n",
        "#Camada Flatten\n",
        "model.add(Flatten())\n",
        "\n",
        "#Fully Connected\n",
        "model.add(Dense(units = 128 , activation = 'relu'))\n",
        "model.add(Dense(units = 3 , activation = 'softmax'))\n",
        "\n",
        "#Compilação\n",
        "model.compile(optimizer = opt , loss = 'categorical_crossentropy' , metrics = ['accuracy'])\n",
        "\n",
        "#Resumo\n",
        "model.summary()"
      ],
      "outputs": [
        {
          "output_type": "stream",
          "name": "stdout",
          "text": [
            "Model: \"sequential_1\"\n",
            "_________________________________________________________________\n",
            "Layer (type)                 Output Shape              Param #   \n",
            "=================================================================\n",
            "conv2d_5 (Conv2D)            (None, 150, 150, 32)      320       \n",
            "_________________________________________________________________\n",
            "average_pooling2d_1 (Average (None, 75, 75, 32)        0         \n",
            "_________________________________________________________________\n",
            "conv2d_6 (Conv2D)            (None, 75, 75, 64)        18496     \n",
            "_________________________________________________________________\n",
            "max_pooling2d_4 (MaxPooling2 (None, 38, 38, 64)        0         \n",
            "_________________________________________________________________\n",
            "conv2d_7 (Conv2D)            (None, 38, 38, 64)        36928     \n",
            "_________________________________________________________________\n",
            "max_pooling2d_5 (MaxPooling2 (None, 19, 19, 64)        0         \n",
            "_________________________________________________________________\n",
            "conv2d_8 (Conv2D)            (None, 19, 19, 128)       73856     \n",
            "_________________________________________________________________\n",
            "max_pooling2d_6 (MaxPooling2 (None, 10, 10, 128)       0         \n",
            "_________________________________________________________________\n",
            "conv2d_9 (Conv2D)            (None, 10, 10, 256)       295168    \n",
            "_________________________________________________________________\n",
            "max_pooling2d_7 (MaxPooling2 (None, 5, 5, 256)         0         \n",
            "_________________________________________________________________\n",
            "flatten_1 (Flatten)          (None, 6400)              0         \n",
            "_________________________________________________________________\n",
            "dense_2 (Dense)              (None, 128)               819328    \n",
            "_________________________________________________________________\n",
            "dense_3 (Dense)              (None, 3)                 387       \n",
            "=================================================================\n",
            "Total params: 1,244,483\n",
            "Trainable params: 1,244,483\n",
            "Non-trainable params: 0\n",
            "_________________________________________________________________\n"
          ]
        }
      ],
      "metadata": {
        "id": "9KWHcPvFqMQZ",
        "colab": {
          "base_uri": "https://localhost:8080/"
        },
        "outputId": "28621fca-ab69-4069-af73-76cad5b0ce13"
      }
    },
    {
      "cell_type": "code",
      "execution_count": null,
      "source": [
        "class_weight = {0: 3, 1: 3, 2: 1}\n",
        "loops = 20\n",
        "history = []\n",
        "checkpoint = ModelCheckpoint(\"best_model.hdf5\", monitor='loss', verbose=1, save_best_only=True, mode='auto')\n",
        "\n",
        "for x in range(loops):\n",
        "    history.append(model.fit(\n",
        "            train_generator,\n",
        "            steps_per_epoch=97,\n",
        "            epochs=1,\n",
        "            validation_data=test_generator,\n",
        "            validation_steps=100,\n",
        "            class_weight=class_weight,\n",
        "            callbacks=[checkpoint]))"
      ],
      "outputs": [
        {
          "output_type": "stream",
          "name": "stdout",
          "text": [
            "97/97 [==============================] - ETA: 0s - loss: 2.3627 - accuracy: 0.3621WARNING:tensorflow:Your input ran out of data; interrupting training. Make sure that your dataset or generator can generate at least `steps_per_epoch * epochs` batches (in this case, 100 batches). You may need to use the repeat() function when building your dataset.\n",
            "97/97 [==============================] - 138s 1s/step - loss: 2.3620 - accuracy: 0.3625 - val_loss: 1.2021 - val_accuracy: 0.4532\n",
            "\n",
            "Epoch 00001: loss improved from inf to 2.28662, saving model to best_model.hdf5\n",
            "97/97 [==============================] - ETA: 0s - loss: 2.1191 - accuracy: 0.4751WARNING:tensorflow:Your input ran out of data; interrupting training. Make sure that your dataset or generator can generate at least `steps_per_epoch * epochs` batches (in this case, 100 batches). You may need to use the repeat() function when building your dataset.\n",
            "97/97 [==============================] - 135s 1s/step - loss: 2.1191 - accuracy: 0.4751 - val_loss: 1.1236 - val_accuracy: 0.4695\n",
            "\n",
            "Epoch 00001: loss improved from 2.28662 to 2.11914, saving model to best_model.hdf5\n",
            "97/97 [==============================] - ETA: 0s - loss: 2.1080 - accuracy: 0.5005WARNING:tensorflow:Your input ran out of data; interrupting training. Make sure that your dataset or generator can generate at least `steps_per_epoch * epochs` batches (in this case, 100 batches). You may need to use the repeat() function when building your dataset.\n",
            "97/97 [==============================] - 136s 1s/step - loss: 2.1080 - accuracy: 0.5005 - val_loss: 1.0151 - val_accuracy: 0.5156\n",
            "\n",
            "Epoch 00001: loss improved from 2.11914 to 2.10803, saving model to best_model.hdf5\n",
            "97/97 [==============================] - ETA: 0s - loss: 2.0428 - accuracy: 0.5233WARNING:tensorflow:Your input ran out of data; interrupting training. Make sure that your dataset or generator can generate at least `steps_per_epoch * epochs` batches (in this case, 100 batches). You may need to use the repeat() function when building your dataset.\n",
            "97/97 [==============================] - 136s 1s/step - loss: 2.0428 - accuracy: 0.5233 - val_loss: 1.0364 - val_accuracy: 0.5349\n",
            "\n",
            "Epoch 00001: loss improved from 2.10803 to 2.04280, saving model to best_model.hdf5\n",
            "97/97 [==============================] - ETA: 0s - loss: 2.0139 - accuracy: 0.5425WARNING:tensorflow:Your input ran out of data; interrupting training. Make sure that your dataset or generator can generate at least `steps_per_epoch * epochs` batches (in this case, 100 batches). You may need to use the repeat() function when building your dataset.\n",
            "97/97 [==============================] - 134s 1s/step - loss: 2.0139 - accuracy: 0.5425 - val_loss: 0.9273 - val_accuracy: 0.5736\n",
            "\n",
            "Epoch 00001: loss improved from 2.04280 to 2.01386, saving model to best_model.hdf5\n",
            "97/97 [==============================] - ETA: 0s - loss: 1.9609 - accuracy: 0.5750WARNING:tensorflow:Your input ran out of data; interrupting training. Make sure that your dataset or generator can generate at least `steps_per_epoch * epochs` batches (in this case, 100 batches). You may need to use the repeat() function when building your dataset.\n",
            "97/97 [==============================] - 135s 1s/step - loss: 1.9609 - accuracy: 0.5750 - val_loss: 0.7411 - val_accuracy: 0.6672\n",
            "\n",
            "Epoch 00001: loss improved from 2.01386 to 1.96091, saving model to best_model.hdf5\n",
            "97/97 [==============================] - ETA: 0s - loss: 1.8336 - accuracy: 0.6069WARNING:tensorflow:Your input ran out of data; interrupting training. Make sure that your dataset or generator can generate at least `steps_per_epoch * epochs` batches (in this case, 100 batches). You may need to use the repeat() function when building your dataset.\n",
            "97/97 [==============================] - 135s 1s/step - loss: 1.8336 - accuracy: 0.6069 - val_loss: 0.7572 - val_accuracy: 0.6389\n",
            "\n",
            "Epoch 00001: loss improved from 1.96091 to 1.83363, saving model to best_model.hdf5\n",
            "97/97 [==============================] - ETA: 0s - loss: 1.6665 - accuracy: 0.6564WARNING:tensorflow:Your input ran out of data; interrupting training. Make sure that your dataset or generator can generate at least `steps_per_epoch * epochs` batches (in this case, 100 batches). You may need to use the repeat() function when building your dataset.\n",
            "97/97 [==============================] - 134s 1s/step - loss: 1.6665 - accuracy: 0.6564 - val_loss: 0.7298 - val_accuracy: 0.6820\n",
            "\n",
            "Epoch 00001: loss improved from 1.83363 to 1.66649, saving model to best_model.hdf5\n",
            "97/97 [==============================] - ETA: 0s - loss: 1.6140 - accuracy: 0.6886WARNING:tensorflow:Your input ran out of data; interrupting training. Make sure that your dataset or generator can generate at least `steps_per_epoch * epochs` batches (in this case, 100 batches). You may need to use the repeat() function when building your dataset.\n",
            "97/97 [==============================] - 134s 1s/step - loss: 1.6140 - accuracy: 0.6886 - val_loss: 0.5524 - val_accuracy: 0.7578\n",
            "\n",
            "Epoch 00001: loss improved from 1.66649 to 1.61402, saving model to best_model.hdf5\n",
            "97/97 [==============================] - ETA: 0s - loss: 1.5165 - accuracy: 0.7172WARNING:tensorflow:Your input ran out of data; interrupting training. Make sure that your dataset or generator can generate at least `steps_per_epoch * epochs` batches (in this case, 100 batches). You may need to use the repeat() function when building your dataset.\n",
            "97/97 [==============================] - 135s 1s/step - loss: 1.5165 - accuracy: 0.7172 - val_loss: 0.5615 - val_accuracy: 0.7519\n",
            "\n",
            "Epoch 00001: loss improved from 1.61402 to 1.51648, saving model to best_model.hdf5\n",
            "97/97 [==============================] - ETA: 0s - loss: 1.4467 - accuracy: 0.7338WARNING:tensorflow:Your input ran out of data; interrupting training. Make sure that your dataset or generator can generate at least `steps_per_epoch * epochs` batches (in this case, 100 batches). You may need to use the repeat() function when building your dataset.\n",
            "97/97 [==============================] - 136s 1s/step - loss: 1.4467 - accuracy: 0.7338 - val_loss: 0.5368 - val_accuracy: 0.7459\n",
            "\n",
            "Epoch 00001: loss improved from 1.51648 to 1.44674, saving model to best_model.hdf5\n",
            "97/97 [==============================] - ETA: 0s - loss: 1.4595 - accuracy: 0.7332WARNING:tensorflow:Your input ran out of data; interrupting training. Make sure that your dataset or generator can generate at least `steps_per_epoch * epochs` batches (in this case, 100 batches). You may need to use the repeat() function when building your dataset.\n",
            "97/97 [==============================] - 143s 1s/step - loss: 1.4595 - accuracy: 0.7332 - val_loss: 0.5232 - val_accuracy: 0.7578\n",
            "\n",
            "Epoch 00001: loss did not improve from 1.44674\n",
            "97/97 [==============================] - ETA: 0s - loss: 1.3633 - accuracy: 0.7559WARNING:tensorflow:Your input ran out of data; interrupting training. Make sure that your dataset or generator can generate at least `steps_per_epoch * epochs` batches (in this case, 100 batches). You may need to use the repeat() function when building your dataset.\n",
            "97/97 [==============================] - 135s 1s/step - loss: 1.3633 - accuracy: 0.7559 - val_loss: 0.5667 - val_accuracy: 0.7652\n",
            "\n",
            "Epoch 00001: loss improved from 1.44674 to 1.36330, saving model to best_model.hdf5\n",
            "97/97 [==============================] - ETA: 0s - loss: 1.3690 - accuracy: 0.7543WARNING:tensorflow:Your input ran out of data; interrupting training. Make sure that your dataset or generator can generate at least `steps_per_epoch * epochs` batches (in this case, 100 batches). You may need to use the repeat() function when building your dataset.\n",
            "97/97 [==============================] - 135s 1s/step - loss: 1.3690 - accuracy: 0.7543 - val_loss: 0.4760 - val_accuracy: 0.7727\n",
            "\n",
            "Epoch 00001: loss did not improve from 1.36330\n",
            "97/97 [==============================] - ETA: 0s - loss: 1.3346 - accuracy: 0.7621WARNING:tensorflow:Your input ran out of data; interrupting training. Make sure that your dataset or generator can generate at least `steps_per_epoch * epochs` batches (in this case, 100 batches). You may need to use the repeat() function when building your dataset.\n",
            "97/97 [==============================] - 135s 1s/step - loss: 1.3346 - accuracy: 0.7621 - val_loss: 0.5319 - val_accuracy: 0.7667\n",
            "\n",
            "Epoch 00001: loss improved from 1.36330 to 1.33462, saving model to best_model.hdf5\n",
            "97/97 [==============================] - ETA: 0s - loss: 1.2883 - accuracy: 0.7709WARNING:tensorflow:Your input ran out of data; interrupting training. Make sure that your dataset or generator can generate at least `steps_per_epoch * epochs` batches (in this case, 100 batches). You may need to use the repeat() function when building your dataset.\n",
            "97/97 [==============================] - 135s 1s/step - loss: 1.2883 - accuracy: 0.7709 - val_loss: 0.4861 - val_accuracy: 0.7875\n",
            "\n",
            "Epoch 00001: loss improved from 1.33462 to 1.28835, saving model to best_model.hdf5\n",
            "97/97 [==============================] - ETA: 0s - loss: 1.2932 - accuracy: 0.7748WARNING:tensorflow:Your input ran out of data; interrupting training. Make sure that your dataset or generator can generate at least `steps_per_epoch * epochs` batches (in this case, 100 batches). You may need to use the repeat() function when building your dataset.\n",
            "97/97 [==============================] - 135s 1s/step - loss: 1.2932 - accuracy: 0.7748 - val_loss: 0.4774 - val_accuracy: 0.7890\n",
            "\n",
            "Epoch 00001: loss did not improve from 1.28835\n",
            "97/97 [==============================] - ETA: 0s - loss: 1.3501 - accuracy: 0.7621WARNING:tensorflow:Your input ran out of data; interrupting training. Make sure that your dataset or generator can generate at least `steps_per_epoch * epochs` batches (in this case, 100 batches). You may need to use the repeat() function when building your dataset.\n",
            "97/97 [==============================] - 135s 1s/step - loss: 1.3501 - accuracy: 0.7621 - val_loss: 0.4619 - val_accuracy: 0.7979\n",
            "\n",
            "Epoch 00001: loss did not improve from 1.28835\n",
            "97/97 [==============================] - ETA: 0s - loss: 1.3008 - accuracy: 0.7644WARNING:tensorflow:Your input ran out of data; interrupting training. Make sure that your dataset or generator can generate at least `steps_per_epoch * epochs` batches (in this case, 100 batches). You may need to use the repeat() function when building your dataset.\n",
            "97/97 [==============================] - 135s 1s/step - loss: 1.3008 - accuracy: 0.7644 - val_loss: 0.5605 - val_accuracy: 0.7637\n",
            "\n",
            "Epoch 00001: loss did not improve from 1.28835\n",
            "97/97 [==============================] - ETA: 0s - loss: 1.3435 - accuracy: 0.7543WARNING:tensorflow:Your input ran out of data; interrupting training. Make sure that your dataset or generator can generate at least `steps_per_epoch * epochs` batches (in this case, 100 batches). You may need to use the repeat() function when building your dataset.\n",
            "97/97 [==============================] - 135s 1s/step - loss: 1.3435 - accuracy: 0.7543 - val_loss: 0.4905 - val_accuracy: 0.7816\n",
            "\n",
            "Epoch 00001: loss did not improve from 1.28835\n"
          ]
        }
      ],
      "metadata": {
        "scrolled": true,
        "id": "I-p4I47LqMQb",
        "colab": {
          "base_uri": "https://localhost:8080/"
        },
        "outputId": "45f1ed44-912c-4807-bc9c-26b0d9855a96"
      }
    },
    {
      "cell_type": "code",
      "execution_count": null,
      "source": [
        "print(\"Acurácia: \" , model.evaluate(x_test,y_test)[1]*100 , \"%\")"
      ],
      "outputs": [
        {
          "output_type": "stream",
          "name": "stdout",
          "text": [
            "22/22 [==============================] - 8s 351ms/step - loss: 0.4905 - accuracy: 0.7816\n",
            "Acurácia:  78.15750241279602 %\n"
          ]
        }
      ],
      "metadata": {
        "id": "4CA5VgCbqMQd",
        "colab": {
          "base_uri": "https://localhost:8080/"
        },
        "outputId": "de4bc8d4-59a3-4774-e2d1-eea6ae139176"
      }
    },
    {
      "cell_type": "markdown",
      "source": [
        "# Resultado"
      ],
      "metadata": {
        "id": "V36Q07ZFqMQe"
      }
    },
    {
      "cell_type": "code",
      "execution_count": null,
      "source": [
        "predictions = model.predict_classes(x_test)\n",
        "y_test_num = [np.where(r==1)[0][0] for r in y_test]\n",
        "names = ['Pneumonia Bacteria', 'Pneumonia Virus','Normal']\n",
        "\n",
        "\n",
        "print(classification_report(y_test_num, predictions, target_names = names))"
      ],
      "outputs": [
        {
          "output_type": "stream",
          "name": "stderr",
          "text": [
            "/usr/local/lib/python3.6/dist-packages/tensorflow/python/keras/engine/sequential.py:450: UserWarning: `model.predict_classes()` is deprecated and will be removed after 2021-01-01. Please use instead:* `np.argmax(model.predict(x), axis=-1)`,   if your model does multi-class classification   (e.g. if it uses a `softmax` last-layer activation).* `(model.predict(x) > 0.5).astype(\"int32\")`,   if your model does binary classification   (e.g. if it uses a `sigmoid` last-layer activation).\n",
            "  warnings.warn('`model.predict_classes()` is deprecated and '\n"
          ]
        },
        {
          "output_type": "stream",
          "name": "stdout",
          "text": [
            "                    precision    recall  f1-score   support\n",
            "\n",
            "Pneumonia Bacteria       0.80      0.60      0.69       220\n",
            "   Pneumonia Virus       0.64      0.80      0.71       219\n",
            "            Normal       0.94      0.93      0.94       234\n",
            "\n",
            "          accuracy                           0.78       673\n",
            "         macro avg       0.79      0.78      0.78       673\n",
            "      weighted avg       0.80      0.78      0.78       673\n",
            "\n"
          ]
        }
      ],
      "metadata": {
        "id": "9YNz-XNbqMQh",
        "colab": {
          "base_uri": "https://localhost:8080/"
        },
        "outputId": "1359bd2c-3ebb-4f3d-b26f-4d0a0151e950"
      }
    },
    {
      "cell_type": "code",
      "execution_count": null,
      "source": [
        "cm = confusion_matrix(y_test_num,predictions)\n",
        "cm = pd.DataFrame(cm , index = names , columns = names)\n",
        "cm.index.name = 'Real'\n",
        "cm.columns.name = 'Previsto'\n",
        "\n",
        "group_counts = [\"{0:0.0f}\".format(value) for value in cm.to_numpy().flatten()]\n",
        "group_percentages = [\"{0:.2%}\".format(value) for value in cm.to_numpy().flatten()/np.sum(cm.to_numpy())]\n",
        "labels = [f\"{v1}\\n{v2}\" for v1, v2 in zip(group_counts,group_percentages)]\n",
        "labels = np.asarray(labels).reshape(3,3)\n",
        "\n",
        "plt.figure(figsize = (10,10))\n",
        "sns.heatmap(cm,\n",
        "            annot=labels,\n",
        "            cmap= \"coolwarm\",\n",
        "            linecolor = 'black',\n",
        "            linewidth = 1,\n",
        "            fmt='')"
      ],
      "outputs": [
        {
          "output_type": "execute_result",
          "data": {
            "text/plain": [
              "<matplotlib.axes._subplots.AxesSubplot at 0x7fcccd91f4e0>"
            ]
          },
          "metadata": {
            "tags": []
          },
          "execution_count": 20
        },
        {
          "output_type": "display_data",
          "data": {
            "text/plain": [
              "<Figure size 720x720 with 2 Axes>"
            ],
            "image/png": "[encoded data removed]"
          },
          "metadata": {
            "tags": [],
            "needs_background": "light"
          }
        }
      ],
      "metadata": {
        "id": "o4Xq0WZ_qMQi",
        "colab": {
          "base_uri": "https://localhost:8080/",
          "height": 623
        },
        "outputId": "b5f2d75d-f7d7-452d-f006-edcc57880011"
      }
    },
    {
      "cell_type": "markdown",
      "source": [
        "Pela matriz de confusão podemos concluir que nosso modelo se mostra seguro na identificação de casos \"NORMAL\", mas erra muito na classificação das pneumonias.\n",
        "Isso não é um problema tão grave quanto a ter muitos casos preditos positivos para NORMAL quando na verdade são casos de pneumonia."
      ],
      "metadata": {
        "id": "rZmHiaX-qMQk"
      }
    },
    {
      "cell_type": "code",
      "execution_count": null,
      "source": [
        "model.save('CNN.h5')"
      ],
      "outputs": [],
      "metadata": {
        "id": "HlcMfu3KqMQo"
      }
    }
  ]
}