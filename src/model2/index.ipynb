{
  "nbformat": 4,
  "nbformat_minor": 0,
  "metadata": {
    "kernelspec": {
      "display_name": "Python 3",
      "language": "python",
      "name": "python3"
    },
    "language_info": {
      "codemirror_mode": {
        "name": "ipython",
        "version": 3
      },
      "file_extension": ".py",
      "mimetype": "text/x-python",
      "name": "python",
      "nbconvert_exporter": "python",
      "pygments_lexer": "ipython3",
      "version": "3.8.5"
    },
    "papermill": {
      "duration": 1504.157535,
      "end_time": "2020-10-13T14:49:21.714092",
      "environment_variables": {},
      "exception": null,
      "input_path": "__notebook__.ipynb",
      "output_path": "__notebook__.ipynb",
      "parameters": {},
      "start_time": "2020-10-13T14:24:17.556557",
      "version": "2.1.0"
    },
    "colab": {
      "name": "#2",
      "provenance": []
    }
  },
  "cells": [
    {
      "cell_type": "markdown",
      "metadata": {
        "papermill": {
          "duration": 0.023046,
          "end_time": "2020-10-13T14:24:22.044590",
          "exception": false,
          "start_time": "2020-10-13T14:24:22.021544",
          "status": "completed"
        },
        "tags": [],
        "id": "9GOgEkdRFBDO"
      },
      "source": [
        "# PneumoCNN #2\n",
        "###Usando redes neurais convolucionais para auxiliar diagnóstico da Pneumonia\n"
      ]
    },
    {
      "cell_type": "code",
      "metadata": {
        "execution": {
          "iopub.execute_input": "2020-10-13T14:24:22.227989Z",
          "iopub.status.busy": "2020-10-13T14:24:22.227152Z",
          "iopub.status.idle": "2020-10-13T14:24:29.489094Z",
          "shell.execute_reply": "2020-10-13T14:24:29.489954Z"
        },
        "papermill": {
          "duration": 7.295959,
          "end_time": "2020-10-13T14:24:29.490160",
          "exception": false,
          "start_time": "2020-10-13T14:24:22.194201",
          "status": "completed"
        },
        "tags": [],
        "id": "8b556ofJFBDX"
      },
      "source": [
        "import glob\n",
        "import random as rn\n",
        "import numpy as np\n",
        "import pandas as pd\n",
        "import matplotlib.pyplot as plt\n",
        "import seaborn as sns\n",
        "import cv2\n",
        "\n",
        "from tensorflow.keras.models import Sequential\n",
        "from tensorflow.keras.layers import Dense, Conv2D, MaxPooling2D, Flatten, Dropout, BatchNormalization\n",
        "from tensorflow.keras.callbacks import EarlyStopping, ReduceLROnPlateau\n",
        "from tensorflow.keras.preprocessing.image import ImageDataGenerator\n",
        "from tensorflow.keras.optimizers import RMSprop, Adam\n",
        "from tensorflow.keras.utils import to_categorical\n",
        "from sklearn.metrics import classification_report, confusion_matrix\n",
        "\n",
        "\n",
        "%matplotlib inline\n",
        "import warnings\n",
        "warnings.filterwarnings('ignore')"
      ],
      "execution_count": null,
      "outputs": []
    },
    {
      "cell_type": "code",
      "metadata": {
        "execution": {
          "iopub.execute_input": "2020-10-13T14:24:29.749472Z",
          "iopub.status.busy": "2020-10-13T14:24:29.748570Z",
          "iopub.status.idle": "2020-10-13T14:24:30.032015Z",
          "shell.execute_reply": "2020-10-13T14:24:30.031423Z"
        },
        "papermill": {
          "duration": 0.334148,
          "end_time": "2020-10-13T14:24:30.032162",
          "exception": false,
          "start_time": "2020-10-13T14:24:29.698014",
          "status": "completed"
        },
        "tags": [],
        "id": "34iqbrqXFBDb"
      },
      "source": [
        "path = '../IC/chest_xray/chest_xray/'\n",
        "\n",
        "\n",
        "\n",
        "train_normal_dir = path + 'train/NORMAL/'\n",
        "train_pneu_dir = path + 'train/PNEUMONIA/'\n",
        "\n",
        "test_normal_dir = path + 'test/NORMAL/'\n",
        "test_pneu_dir = path + 'test/PNEUMONIA/'\n",
        "\n",
        "val_normal_dir = path + 'val/NORMAL/'\n",
        "val_pneu_dir = path + 'val/PNEUMONIA/'\n",
        "\n",
        "\n",
        "train_normal_cases = glob.glob(train_normal_dir + '*jpeg')\n",
        "train_pneu_cases = glob.glob(train_pneu_dir + '*jpeg')\n",
        "\n",
        "test_normal_cases = glob.glob(test_normal_dir + '*jpeg')\n",
        "test_pneu_cases = glob.glob(test_pneu_dir + '*jpeg')\n",
        "\n",
        "val_normal_cases = glob.glob(val_normal_dir + '*jpeg')\n",
        "val_pneu_cases = glob.glob(val_pneu_dir + '*jpeg')\n",
        "\n",
        "\n",
        "train_normal_cases = [x.replace('\\\\', '/') for x in train_normal_cases]\n",
        "train_pneu_cases = [x.replace('\\\\', '/') for x in train_pneu_cases]\n",
        "test_normal_cases = [x.replace('\\\\', '/') for x in test_normal_cases]\n",
        "test_pneu_cases = [x.replace('\\\\', '/') for x in test_pneu_cases]\n",
        "val_normal_cases = [x.replace('\\\\', '/') for x in val_normal_cases]\n",
        "val_pneu_cases = [x.replace('\\\\', '/') for x in val_pneu_cases]\n",
        "\n",
        "\n",
        "train_list = []\n",
        "test_list = []\n",
        "val_list = []\n",
        "\n",
        "for x in train_normal_cases:\n",
        "    train_list.append([x, 0])\n",
        "    \n",
        "for x in train_pneu_cases:\n",
        "    train_list.append([x, 1])\n",
        "    \n",
        "for x in test_normal_cases:\n",
        "    test_list.append([x, 0])\n",
        "    \n",
        "for x in test_pneu_cases:\n",
        "    test_list.append([x, 1])\n",
        "    \n",
        "for x in val_normal_cases:\n",
        "    val_list.append([x, 0])\n",
        "    \n",
        "for x in val_pneu_cases:\n",
        "    val_list.append([x, 1])\n",
        "\n",
        "\n",
        "rn.shuffle(train_list)\n",
        "rn.shuffle(test_list)\n",
        "rn.shuffle(val_list)\n",
        "\n",
        "train_df = pd.DataFrame(train_list, columns=['image', 'label'])\n",
        "test_df = pd.DataFrame(test_list, columns=['image', 'label'])\n",
        "val_df = pd.DataFrame(val_list, columns=['image', 'label'])"
      ],
      "execution_count": null,
      "outputs": []
    },
    {
      "cell_type": "code",
      "metadata": {
        "execution": {
          "iopub.execute_input": "2020-10-13T14:24:32.370599Z",
          "iopub.status.busy": "2020-10-13T14:24:32.369851Z",
          "iopub.status.idle": "2020-10-13T14:24:32.374020Z",
          "shell.execute_reply": "2020-10-13T14:24:32.373492Z"
        },
        "papermill": {
          "duration": 0.040972,
          "end_time": "2020-10-13T14:24:32.374114",
          "exception": false,
          "start_time": "2020-10-13T14:24:32.333142",
          "status": "completed"
        },
        "tags": [],
        "id": "m4GwKT9gFBDi"
      },
      "source": [
        "def process_data(img_path):\n",
        "    img = cv2.imread(img_path)\n",
        "    img = cv2.resize(img, (196, 196))\n",
        "    img = cv2.cvtColor(img, cv2.COLOR_BGR2GRAY)\n",
        "    img = img/255.0\n",
        "    img = np.reshape(img, (196,196,1))\n",
        "    \n",
        "    return img\n",
        "\n",
        "def compose_dataset(df):\n",
        "    data = []\n",
        "    labels = []\n",
        "\n",
        "    for img_path, label in df.values:\n",
        "        data.append(process_data(img_path))\n",
        "        labels.append(label)\n",
        "        \n",
        "    return np.array(data), np.array(labels)"
      ],
      "execution_count": null,
      "outputs": []
    },
    {
      "cell_type": "code",
      "metadata": {
        "execution": {
          "iopub.execute_input": "2020-10-13T14:24:32.499729Z",
          "iopub.status.busy": "2020-10-13T14:24:32.499049Z",
          "iopub.status.idle": "2020-10-13T14:26:33.493656Z",
          "shell.execute_reply": "2020-10-13T14:26:33.494448Z"
        },
        "papermill": {
          "duration": 121.03116,
          "end_time": "2020-10-13T14:26:33.494607",
          "exception": false,
          "start_time": "2020-10-13T14:24:32.463447",
          "status": "completed"
        },
        "scrolled": false,
        "tags": [],
        "id": "eO24UZncFBDj",
        "outputId": "3fd0d5be-8594-42cc-cb88-2b9341fec72e"
      },
      "source": [
        "X_train, y_train = compose_dataset(train_df)\n",
        "X_test, y_test = compose_dataset(test_df)\n",
        "X_val, y_val = compose_dataset(val_df)\n",
        "\n",
        "print('Train data shape: {}, Labels shape: {}'.format(X_train.shape, y_train.shape))\n",
        "print('Test data shape: {}, Labels shape: {}'.format(X_test.shape, y_test.shape))\n",
        "print('Validation data shape: {}, Labels shape: {}'.format(X_val.shape, y_val.shape))"
      ],
      "execution_count": null,
      "outputs": [
        {
          "name": "stdout",
          "output_type": "stream",
          "text": [
            "Train data shape: (5216, 196, 196, 1), Labels shape: (5216,)\n",
            "Test data shape: (624, 196, 196, 1), Labels shape: (624,)\n",
            "Validation data shape: (16, 196, 196, 1), Labels shape: (16,)\n"
          ]
        }
      ]
    },
    {
      "cell_type": "code",
      "metadata": {
        "execution": {
          "iopub.execute_input": "2020-10-13T14:26:33.628201Z",
          "iopub.status.busy": "2020-10-13T14:26:33.627018Z",
          "iopub.status.idle": "2020-10-13T14:26:34.224397Z",
          "shell.execute_reply": "2020-10-13T14:26:34.223840Z"
        },
        "papermill": {
          "duration": 0.633228,
          "end_time": "2020-10-13T14:26:34.224516",
          "exception": false,
          "start_time": "2020-10-13T14:26:33.591288",
          "status": "completed"
        },
        "tags": [],
        "id": "6E0FtzptFBDj"
      },
      "source": [
        "datagen = ImageDataGenerator(\n",
        "    rotation_range=10,\n",
        "    zoom_range = 0.1,\n",
        "    width_shift_range=0.1,\n",
        "    height_shift_range=0.1,\n",
        "    horizontal_flip=False,\n",
        "    vertical_flip=False\n",
        ")\n",
        "\n",
        "datagen.fit(X_train)"
      ],
      "execution_count": null,
      "outputs": []
    },
    {
      "cell_type": "code",
      "metadata": {
        "execution": {
          "iopub.execute_input": "2020-10-13T14:26:34.348923Z",
          "iopub.status.busy": "2020-10-13T14:26:34.348098Z",
          "iopub.status.idle": "2020-10-13T14:26:34.350748Z",
          "shell.execute_reply": "2020-10-13T14:26:34.351219Z"
        },
        "papermill": {
          "duration": 0.037556,
          "end_time": "2020-10-13T14:26:34.351364",
          "exception": false,
          "start_time": "2020-10-13T14:26:34.313808",
          "status": "completed"
        },
        "tags": [],
        "id": "PwTg4-J9FBDk"
      },
      "source": [
        "y_train = to_categorical(y_train)\n",
        "y_test = to_categorical(y_test)\n",
        "y_val = to_categorical(y_val)"
      ],
      "execution_count": null,
      "outputs": []
    },
    {
      "cell_type": "code",
      "metadata": {
        "execution": {
          "iopub.execute_input": "2020-10-13T14:26:34.551801Z",
          "iopub.status.busy": "2020-10-13T14:26:34.551180Z",
          "iopub.status.idle": "2020-10-13T14:46:07.574645Z",
          "shell.execute_reply": "2020-10-13T14:46:07.575107Z"
        },
        "papermill": {
          "duration": 1173.073736,
          "end_time": "2020-10-13T14:46:07.575303",
          "exception": false,
          "start_time": "2020-10-13T14:26:34.501567",
          "status": "completed"
        },
        "tags": [],
        "id": "A9YkAhNsFBDl",
        "outputId": "c8264046-1bd3-458e-ae66-fa2cf8feffc9"
      },
      "source": [
        "model = Sequential()\n",
        "\n",
        "model.add(Conv2D(filters=8, kernel_size=(7,7), padding='same', activation='relu', input_shape=(196, 196, 1)))\n",
        "model.add(Conv2D(filters=8, kernel_size=(7,7), padding='same', activation='relu'))\n",
        "model.add(MaxPooling2D(pool_size=(3,3)))\n",
        "\n",
        "model.add(Conv2D(filters=16, kernel_size=(5,5), padding='same', activation='relu'))\n",
        "model.add(Conv2D(filters=16, kernel_size=(5,5), padding='same', activation='relu'))\n",
        "model.add(MaxPooling2D(pool_size=(3,3)))\n",
        "\n",
        "model.add(Conv2D(filters=32, kernel_size=(3,3), padding='same', activation='relu'))\n",
        "model.add(Conv2D(filters=32, kernel_size=(3,3), padding='same', activation='relu'))\n",
        "model.add(MaxPooling2D(pool_size=(2,2)))\n",
        "\n",
        "model.add(Conv2D(filters=64, kernel_size=(3,3), padding='same', activation='relu'))\n",
        "model.add(Conv2D(filters=64, kernel_size=(3,3), padding='same', activation='relu'))\n",
        "model.add(MaxPooling2D(pool_size=(2,2)))\n",
        "\n",
        "model.add(Conv2D(filters=128, kernel_size=(3,3), padding='same', activation='relu'))\n",
        "model.add(Conv2D(filters=128, kernel_size=(3,3), padding='same', activation='relu'))\n",
        "model.add(MaxPooling2D(pool_size=(2,2)))\n",
        "\n",
        "model.add(Flatten())\n",
        "\n",
        "model.add(Dense(128, activation='relu'))\n",
        "model.add(Dropout(0.2))\n",
        "model.add(Dense(2, activation='softmax'))\n",
        "\n",
        "optimizer = Adam(lr=0.0001, decay=1e-5)\n",
        "model.compile(loss='categorical_crossentropy', optimizer=optimizer, metrics=['accuracy'])\n",
        "\n",
        "callback = EarlyStopping(monitor='loss', patience=6)\n",
        "history = model.fit(datagen.flow(X_train,y_train, batch_size=4), validation_data=(X_test, y_test), epochs = 100, verbose = 1, callbacks=[callback], class_weight={0:6.0, 1:0.5})"
      ],
      "execution_count": null,
      "outputs": [
        {
          "name": "stdout",
          "output_type": "stream",
          "text": [
            "Epoch 1/100\n",
            "1304/1304 [==============================] - 22s 17ms/step - loss: 0.6423 - accuracy: 0.5426 - val_loss: 0.3952 - val_accuracy: 0.8349\n",
            "Epoch 2/100\n",
            "1304/1304 [==============================] - 22s 17ms/step - loss: 0.3579 - accuracy: 0.8108 - val_loss: 0.3385 - val_accuracy: 0.8574\n",
            "Epoch 3/100\n",
            "1304/1304 [==============================] - 22s 17ms/step - loss: 0.3090 - accuracy: 0.8363 - val_loss: 0.3097 - val_accuracy: 0.8862\n",
            "Epoch 4/100\n",
            "1304/1304 [==============================] - 22s 17ms/step - loss: 0.2632 - accuracy: 0.8760 - val_loss: 0.3355 - val_accuracy: 0.8878\n",
            "Epoch 5/100\n",
            "1304/1304 [==============================] - 23s 18ms/step - loss: 0.2537 - accuracy: 0.8790 - val_loss: 0.4357 - val_accuracy: 0.8670\n",
            "Epoch 6/100\n",
            "1304/1304 [==============================] - 21s 16ms/step - loss: 0.2282 - accuracy: 0.8867 - val_loss: 0.3911 - val_accuracy: 0.8734\n",
            "Epoch 7/100\n",
            "1304/1304 [==============================] - 22s 17ms/step - loss: 0.2278 - accuracy: 0.8921 - val_loss: 0.3032 - val_accuracy: 0.8926\n",
            "Epoch 8/100\n",
            "1304/1304 [==============================] - 22s 17ms/step - loss: 0.2144 - accuracy: 0.8951 - val_loss: 0.2483 - val_accuracy: 0.8974\n",
            "Epoch 9/100\n",
            "1304/1304 [==============================] - 22s 17ms/step - loss: 0.1798 - accuracy: 0.9181 - val_loss: 0.2726 - val_accuracy: 0.8926\n",
            "Epoch 10/100\n",
            "1304/1304 [==============================] - 22s 17ms/step - loss: 0.2066 - accuracy: 0.9038 - val_loss: 0.2695 - val_accuracy: 0.8990\n",
            "Epoch 11/100\n",
            "1304/1304 [==============================] - 23s 18ms/step - loss: 0.1800 - accuracy: 0.9149 - val_loss: 0.2489 - val_accuracy: 0.8926\n",
            "Epoch 12/100\n",
            "1304/1304 [==============================] - 21s 16ms/step - loss: 0.1717 - accuracy: 0.9124 - val_loss: 0.4345 - val_accuracy: 0.8910\n",
            "Epoch 13/100\n",
            "1304/1304 [==============================] - 24s 18ms/step - loss: 0.1797 - accuracy: 0.9133 - val_loss: 0.3357 - val_accuracy: 0.8958\n",
            "Epoch 14/100\n",
            "1304/1304 [==============================] - 22s 17ms/step - loss: 0.1574 - accuracy: 0.9281 - val_loss: 0.2718 - val_accuracy: 0.9071\n",
            "Epoch 15/100\n",
            "1304/1304 [==============================] - 21s 16ms/step - loss: 0.1718 - accuracy: 0.9231 - val_loss: 0.2493 - val_accuracy: 0.9054\n",
            "Epoch 16/100\n",
            "1304/1304 [==============================] - 24s 19ms/step - loss: 0.1647 - accuracy: 0.9245 - val_loss: 0.2360 - val_accuracy: 0.9151\n",
            "Epoch 17/100\n",
            "1304/1304 [==============================] - 22s 17ms/step - loss: 0.1625 - accuracy: 0.9174 - val_loss: 0.2898 - val_accuracy: 0.8958\n",
            "Epoch 18/100\n",
            "1304/1304 [==============================] - 21s 16ms/step - loss: 0.1578 - accuracy: 0.9218 - val_loss: 0.2717 - val_accuracy: 0.8862\n",
            "Epoch 19/100\n",
            "1304/1304 [==============================] - 25s 19ms/step - loss: 0.1574 - accuracy: 0.9245 - val_loss: 0.2830 - val_accuracy: 0.8766\n",
            "Epoch 20/100\n",
            "1304/1304 [==============================] - 21s 16ms/step - loss: 0.1509 - accuracy: 0.9285 - val_loss: 0.3347 - val_accuracy: 0.8542\n",
            "Epoch 21/100\n",
            "1304/1304 [==============================] - 24s 18ms/step - loss: 0.1471 - accuracy: 0.9271 - val_loss: 0.2543 - val_accuracy: 0.9006\n",
            "Epoch 22/100\n",
            "1304/1304 [==============================] - 23s 18ms/step - loss: 0.1456 - accuracy: 0.9266 - val_loss: 0.2860 - val_accuracy: 0.9087\n",
            "Epoch 23/100\n",
            "1304/1304 [==============================] - 21s 16ms/step - loss: 0.1329 - accuracy: 0.9340 - val_loss: 0.2413 - val_accuracy: 0.9006\n",
            "Epoch 24/100\n",
            "1304/1304 [==============================] - 25s 19ms/step - loss: 0.1515 - accuracy: 0.9273 - val_loss: 0.2836 - val_accuracy: 0.8974\n",
            "Epoch 25/100\n",
            "1304/1304 [==============================] - 23s 18ms/step - loss: 0.1403 - accuracy: 0.9371 - val_loss: 0.3510 - val_accuracy: 0.9103\n",
            "Epoch 26/100\n",
            "1304/1304 [==============================] - 22s 17ms/step - loss: 0.1375 - accuracy: 0.9344 - val_loss: 0.2799 - val_accuracy: 0.8958\n",
            "Epoch 27/100\n",
            "1304/1304 [==============================] - 24s 19ms/step - loss: 0.1349 - accuracy: 0.9365 - val_loss: 0.2766 - val_accuracy: 0.9022\n",
            "Epoch 28/100\n",
            "1304/1304 [==============================] - 22s 17ms/step - loss: 0.1353 - accuracy: 0.9402 - val_loss: 0.2293 - val_accuracy: 0.9247\n",
            "Epoch 29/100\n",
            "1304/1304 [==============================] - 25s 19ms/step - loss: 0.1156 - accuracy: 0.9454 - val_loss: 0.5583 - val_accuracy: 0.8574\n",
            "Epoch 30/100\n",
            "1304/1304 [==============================] - 22s 17ms/step - loss: 0.1223 - accuracy: 0.9400 - val_loss: 0.4458 - val_accuracy: 0.8926\n",
            "Epoch 31/100\n",
            "1304/1304 [==============================] - 22s 17ms/step - loss: 0.1202 - accuracy: 0.9467 - val_loss: 0.3817 - val_accuracy: 0.9022\n",
            "Epoch 32/100\n",
            "1304/1304 [==============================] - 24s 18ms/step - loss: 0.1122 - accuracy: 0.9465 - val_loss: 0.3057 - val_accuracy: 0.9135\n",
            "Epoch 33/100\n",
            "1304/1304 [==============================] - 22s 17ms/step - loss: 0.1414 - accuracy: 0.9354 - val_loss: 0.3080 - val_accuracy: 0.9038\n",
            "Epoch 34/100\n",
            "1304/1304 [==============================] - 23s 18ms/step - loss: 0.1118 - accuracy: 0.9463 - val_loss: 0.2669 - val_accuracy: 0.9119\n",
            "Epoch 35/100\n",
            "1304/1304 [==============================] - 23s 18ms/step - loss: 0.1143 - accuracy: 0.9457 - val_loss: 0.3190 - val_accuracy: 0.8942\n",
            "Epoch 36/100\n",
            "1304/1304 [==============================] - 22s 17ms/step - loss: 0.1206 - accuracy: 0.9440 - val_loss: 0.3676 - val_accuracy: 0.9135\n",
            "Epoch 37/100\n",
            "1304/1304 [==============================] - 23s 18ms/step - loss: 0.1157 - accuracy: 0.9452 - val_loss: 0.2888 - val_accuracy: 0.8782\n",
            "Epoch 38/100\n",
            "1304/1304 [==============================] - 23s 18ms/step - loss: 0.1344 - accuracy: 0.9270 - val_loss: 0.4093 - val_accuracy: 0.9135\n",
            "Epoch 39/100\n",
            "1304/1304 [==============================] - 22s 17ms/step - loss: 0.1080 - accuracy: 0.9463 - val_loss: 0.2654 - val_accuracy: 0.9054\n",
            "Epoch 40/100\n",
            "1304/1304 [==============================] - 23s 18ms/step - loss: 0.1074 - accuracy: 0.9465 - val_loss: 0.2822 - val_accuracy: 0.9135\n",
            "Epoch 41/100\n",
            "1304/1304 [==============================] - 25s 19ms/step - loss: 0.1094 - accuracy: 0.9496 - val_loss: 0.3129 - val_accuracy: 0.9119\n",
            "Epoch 42/100\n",
            "1304/1304 [==============================] - 22s 17ms/step - loss: 0.0999 - accuracy: 0.9557 - val_loss: 0.2494 - val_accuracy: 0.9151\n",
            "Epoch 43/100\n",
            "1304/1304 [==============================] - 21s 16ms/step - loss: 0.1214 - accuracy: 0.9421 - val_loss: 0.3000 - val_accuracy: 0.9183\n",
            "Epoch 44/100\n",
            "1304/1304 [==============================] - 27s 21ms/step - loss: 0.1044 - accuracy: 0.9502 - val_loss: 0.3454 - val_accuracy: 0.9103\n",
            "Epoch 45/100\n",
            "1304/1304 [==============================] - 22s 17ms/step - loss: 0.0852 - accuracy: 0.9590 - val_loss: 0.2542 - val_accuracy: 0.9151\n",
            "Epoch 46/100\n",
            "1304/1304 [==============================] - 21s 16ms/step - loss: 0.1057 - accuracy: 0.9438 - val_loss: 0.2852 - val_accuracy: 0.9167\n",
            "Epoch 47/100\n",
            "1304/1304 [==============================] - 28s 21ms/step - loss: 0.1100 - accuracy: 0.9484 - val_loss: 0.4470 - val_accuracy: 0.8958\n",
            "Epoch 48/100\n",
            "1304/1304 [==============================] - 20s 15ms/step - loss: 0.0923 - accuracy: 0.9578 - val_loss: 0.2505 - val_accuracy: 0.9183\n",
            "Epoch 49/100\n",
            "1304/1304 [==============================] - 21s 16ms/step - loss: 0.1020 - accuracy: 0.9473 - val_loss: 0.3259 - val_accuracy: 0.9183\n",
            "Epoch 50/100\n",
            "1304/1304 [==============================] - 28s 22ms/step - loss: 0.0960 - accuracy: 0.9503 - val_loss: 0.3887 - val_accuracy: 0.9183\n",
            "Epoch 51/100\n",
            "1304/1304 [==============================] - 21s 16ms/step - loss: 0.1082 - accuracy: 0.9507 - val_loss: 0.2899 - val_accuracy: 0.9087\n"
          ]
        }
      ]
    },
    {
      "cell_type": "code",
      "metadata": {
        "execution": {
          "iopub.execute_input": "2020-10-13T14:47:17.866348Z",
          "iopub.status.busy": "2020-10-13T14:47:17.865158Z",
          "iopub.status.idle": "2020-10-13T14:47:18.475297Z",
          "shell.execute_reply": "2020-10-13T14:47:18.474336Z"
        },
        "papermill": {
          "duration": 7.350265,
          "end_time": "2020-10-13T14:47:18.475415",
          "exception": false,
          "start_time": "2020-10-13T14:47:11.125150",
          "status": "completed"
        },
        "tags": [],
        "id": "7-BblrWxFBDn"
      },
      "source": [
        "y_test_hat = model.predict(X_test, batch_size=4)\n",
        "y_test_hat = np.argmax(y_test_hat, axis=1)\n",
        "y_test = np.argmax(y_test, axis=1)"
      ],
      "execution_count": null,
      "outputs": []
    },
    {
      "cell_type": "code",
      "metadata": {
        "execution": {
          "iopub.execute_input": "2020-10-13T14:47:32.780858Z",
          "iopub.status.busy": "2020-10-13T14:47:32.780112Z",
          "iopub.status.idle": "2020-10-13T14:47:32.984145Z",
          "shell.execute_reply": "2020-10-13T14:47:32.984700Z"
        },
        "papermill": {
          "duration": 7.685963,
          "end_time": "2020-10-13T14:47:32.984863",
          "exception": false,
          "start_time": "2020-10-13T14:47:25.298900",
          "status": "completed"
        },
        "tags": [],
        "id": "34jpYqzhFBDn",
        "outputId": "e19033ea-7168-4f2c-81a4-a748da5c4bc5"
      },
      "source": [
        "conf_m = confusion_matrix(y_test, y_test_hat)\n",
        "clas_r = classification_report(y_test, y_test_hat)\n",
        "\n",
        "plt.figure(figsize=(5,3))\n",
        "sns.set(font_scale=1.2)\n",
        "ax = sns.heatmap(conf_m, annot=True,xticklabels=['H', 'P'], yticklabels=['H', 'P'], cbar=False, cmap='Blues',linewidths=1, linecolor='black', fmt='.0f')\n",
        "plt.yticks(rotation=0)\n",
        "plt.xlabel('Predicted labels')\n",
        "plt.ylabel('True labels')\n",
        "ax.xaxis.set_ticks_position('top') \n",
        "plt.title('Confusion matrix - test data\\n(H - healthy/normal, P - pneumonia)')\n",
        "plt.show()\n",
        "\n",
        "print('Classification report on test data')\n",
        "print(clas_r)"
      ],
      "execution_count": null,
      "outputs": [
        {
          "data": {
            "image/png": "[encoded data removed]",
            "text/plain": [
              "<Figure size 360x216 with 1 Axes>"
            ]
          },
          "metadata": {
            "needs_background": "light"
          },
          "output_type": "display_data"
        },
        {
          "name": "stdout",
          "output_type": "stream",
          "text": [
            "Classification report on test data\n",
            "              precision    recall  f1-score   support\n",
            "\n",
            "           0       0.92      0.83      0.87       234\n",
            "           1       0.91      0.95      0.93       390\n",
            "\n",
            "    accuracy                           0.91       624\n",
            "   macro avg       0.91      0.89      0.90       624\n",
            "weighted avg       0.91      0.91      0.91       624\n",
            "\n"
          ]
        }
      ]
    }
  ]
}